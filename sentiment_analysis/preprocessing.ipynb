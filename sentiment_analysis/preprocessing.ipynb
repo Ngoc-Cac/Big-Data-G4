{
 "cells": [
  {
   "cell_type": "code",
   "execution_count": 7,
   "id": "ca819ca9",
   "metadata": {},
   "outputs": [],
   "source": [
    "from pyspark.sql import SparkSession\n",
    "from pyspark.sql.functions import when, col"
   ]
  },
  {
   "cell_type": "code",
   "execution_count": null,
   "id": "02cb429f",
   "metadata": {},
   "outputs": [],
   "source": [
    "# Khởi tạo Spark session\n",
    "spark = SparkSession.builder.appName(\"Ratings\").getOrCreate()"
   ]
  },
  {
   "cell_type": "code",
   "execution_count": null,
   "id": "29bb5ad2",
   "metadata": {},
   "outputs": [],
   "source": [
    "# Đọc dữ liệu từ file CSV\n",
    "file_path = \"Datamau\\reviews.csv\"  # Đường dẫn đến file CSV\n",
    "df = spark.read.csv(file_path, header=True, inferSchema=True)"
   ]
  },
  {
   "cell_type": "code",
   "execution_count": null,
   "id": "4df79b50",
   "metadata": {},
   "outputs": [],
   "source": [
    "# Hiển thị dữ liệu ban đầu\n",
    "print(\"Dữ liệu ban đầu:\")\n",
    "df.show()"
   ]
  },
  {
   "cell_type": "code",
   "execution_count": null,
   "id": "6593fff0",
   "metadata": {},
   "outputs": [],
   "source": [
    "# Mã hóa biến mục tiêu\n",
    "df_encoded = df.withColumn(\"sentiment\",\n",
    "    when(col(\"rating\") >= 4, \"positive\")\n",
    "    .when(col(\"rating\") == 3, \"neutral\")\n",
    "    .otherwise(\"negative\")\n",
    ")"
   ]
  },
  {
   "cell_type": "code",
   "execution_count": null,
   "id": "784c28bf",
   "metadata": {},
   "outputs": [],
   "source": [
    "# Hiển thị kết quả sau khi mã hóa\n",
    "print(\"Dữ liệu sau khi mã hóa:\")\n",
    "df_encoded.show()"
   ]
  },
  {
   "cell_type": "code",
   "execution_count": null,
   "id": "5df57cc2",
   "metadata": {},
   "outputs": [],
   "source": [
    "# Dừng Spark session\n",
    "spark.stop()"
   ]
  }
 ],
 "metadata": {
  "kernelspec": {
   "display_name": "Python 3",
   "language": "python",
   "name": "python3"
  },
  "language_info": {
   "codemirror_mode": {
    "name": "ipython",
    "version": 3
   },
   "file_extension": ".py",
   "mimetype": "text/x-python",
   "name": "python",
   "nbconvert_exporter": "python",
   "pygments_lexer": "ipython3",
   "version": "3.12.2"
  }
 },
 "nbformat": 4,
 "nbformat_minor": 5
}
