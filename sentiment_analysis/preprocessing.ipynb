{
 "cells": [
  {
   "cell_type": "code",
   "execution_count": 1,
   "id": "ca819ca9",
   "metadata": {},
   "outputs": [],
   "source": [
    "import re\n",
    "import requests\n",
    "from pyspark.sql import SparkSession\n",
    "from pyspark.sql.functions import when, col, udf, array_join\n",
    "from pyspark.sql.types import ArrayType, StringType\n",
    "from pyspark.ml.feature import StopWordsRemover\n",
    "from pyvi.ViTokenizer import ViTokenizer"
   ]
  },
  {
   "cell_type": "code",
   "execution_count": 2,
   "id": "02cb429f",
   "metadata": {},
   "outputs": [],
   "source": [
    "# init spark session\n",
    "spark = SparkSession.builder.master('local[*]').config('spark.ui.port', '4040').getOrCreate()"
   ]
  },
  {
   "cell_type": "code",
   "execution_count": 11,
   "id": "30cdb776",
   "metadata": {},
   "outputs": [
    {
     "name": "stdout",
     "output_type": "stream",
     "text": [
      "+--------------------+------+-----------+\n",
      "|              review|rating|place_index|\n",
      "+--------------------+------+-----------+\n",
      "|Gà ướp vừa vị , m...|     5|          0|\n",
      "|Quán sạch, đẹp, t...|     5|          0|\n",
      "|Nhân viên bự con ...|     5|          0|\n",
      "|Gà giòn tan, nóng...|     5|          0|\n",
      "|Gà giòn rụm, thấm...|     5|          0|\n",
      "|Nhân viên thân th...|     5|          0|\n",
      "|Phục vụ nhanh, nh...|     5|          0|\n",
      "|Gà rán thì ở đâu ...|     5|          0|\n",
      "|Nhân viên phục vụ...|     5|          0|\n",
      "|Mình là fan KFC, ...|     5|          0|\n",
      "|Gà giòn ngon dù đ...|     5|          0|\n",
      "|Mình có ghé đây ă...|     5|          0|\n",
      "|Ghé quán vào 1 bu...|     5|          0|\n",
      "|Nhân viên thân th...|     5|          0|\n",
      "|Ăn nhiều brand gà...|     5|          0|\n",
      "|Mới ghé tại nhà h...|     5|          0|\n",
      "|Đồ ăn nóng hổi, c...|     5|          0|\n",
      "|Ngon lắm mn ơi. Q...|     5|          0|\n",
      "|Ghé vào buổi tối,...|     5|          0|\n",
      "|Ghé ăn trưa cùng ...|     5|          0|\n",
      "+--------------------+------+-----------+\n",
      "only showing top 20 rows\n",
      "\n"
     ]
    }
   ],
   "source": [
    "review_fp = \"hdfs://namenode:9000/review_data/reviews.csv\"\n",
    "df = spark.read.csv(review_fp, header=True, inferSchema=True)\n",
    "df.show()"
   ]
  },
  {
   "cell_type": "markdown",
   "id": "304b8cfe",
   "metadata": {},
   "source": [
    "# Encoding Rating into sentiments\n",
    "Ratings above 3 stars are considered positive, below 3 stars are considered negative and neutral otherwise."
   ]
  },
  {
   "cell_type": "code",
   "execution_count": null,
   "id": "6593fff0",
   "metadata": {},
   "outputs": [
    {
     "name": "stdout",
     "output_type": "stream",
     "text": [
      "+--------------------+------+-----------+---------+\n",
      "|              review|rating|place_index|sentiment|\n",
      "+--------------------+------+-----------+---------+\n",
      "|Gà ướp vừa vị , m...|     5|          0| positive|\n",
      "|Quán sạch, đẹp, t...|     5|          0| positive|\n",
      "|Nhân viên bự con ...|     5|          0| positive|\n",
      "|Gà giòn tan, nóng...|     5|          0| positive|\n",
      "|Gà giòn rụm, thấm...|     5|          0| positive|\n",
      "|Nhân viên thân th...|     5|          0| positive|\n",
      "|Phục vụ nhanh, nh...|     5|          0| positive|\n",
      "|Gà rán thì ở đâu ...|     5|          0| positive|\n",
      "|Nhân viên phục vụ...|     5|          0| positive|\n",
      "|Mình là fan KFC, ...|     5|          0| positive|\n",
      "|Gà giòn ngon dù đ...|     5|          0| positive|\n",
      "|Mình có ghé đây ă...|     5|          0| positive|\n",
      "|Ghé quán vào 1 bu...|     5|          0| positive|\n",
      "|Nhân viên thân th...|     5|          0| positive|\n",
      "|Ăn nhiều brand gà...|     5|          0| positive|\n",
      "|Mới ghé tại nhà h...|     5|          0| positive|\n",
      "|Đồ ăn nóng hổi, c...|     5|          0| positive|\n",
      "|Ngon lắm mn ơi. Q...|     5|          0| positive|\n",
      "|Ghé vào buổi tối,...|     5|          0| positive|\n",
      "|Ghé ăn trưa cùng ...|     5|          0| positive|\n",
      "+--------------------+------+-----------+---------+\n",
      "only showing top 20 rows\n",
      "\n"
     ]
    }
   ],
   "source": [
    "df_encoded = df.withColumn(\"sentiment\",\n",
    "    when(col(\"rating\") > 3, \"positive\")\n",
    "    .when(col(\"rating\") == 3, \"neutral\")\n",
    "    .otherwise(\"negative\")\n",
    ")\n",
    "df_encoded.show()"
   ]
  },
  {
   "cell_type": "code",
   "execution_count": 16,
   "id": "2b07ffd2",
   "metadata": {},
   "outputs": [
    {
     "name": "stdout",
     "output_type": "stream",
     "text": [
      "+--------------------+------+-----------+---------+\n",
      "|              review|rating|place_index|sentiment|\n",
      "+--------------------+------+-----------+---------+\n",
      "|Khi tôi đặt 5 cán...|     1|          0| negative|\n",
      "|Gọi gà nướng, bắt...|     1|          0| negative|\n",
      "|Thanh gà trong co...|     2|          0| negative|\n",
      "|Đặt hàng trên Sho...|     1|          0| negative|\n",
      "|Làm ăn cà chớn, đ...|     1|          0| negative|\n",
      "|Làm ăn tệ hại,bỏ ...|     1|          0| negative|\n",
      "|Thái độ nhân viên...|     1|          0| negative|\n",
      "|Nhân viên ăn nói ...|     1|          0| negative|\n",
      "|Đồ ăn ngon bác bả...|     2|          0| negative|\n",
      "|Lần thứ 3 mua hàn...|     1|          0| negative|\n",
      "|Đặt grab mua milo...|     1|          0| negative|\n",
      "|Thời gian chờ lâu...|     1|          0| negative|\n",
      "|29/11/2021 mình c...|     1|          0| negative|\n",
      "|Nóng nực, thái độ...|     2|          0| negative|\n",
      "|Khuyên các bạn mu...|     1|          0| negative|\n",
      "|Muốn ăn 1 miệng g...|     1|          0| negative|\n",
      "|nhân viên chậm, đ...|     1|          0| negative|\n",
      "|Mua hàng mang đi ...|     3|          0|  neutral|\n",
      "|            Được rồi|     3|          0|  neutral|\n",
      "|                 ĐẾN|     2|          0| negative|\n",
      "+--------------------+------+-----------+---------+\n",
      "only showing top 20 rows\n",
      "\n"
     ]
    }
   ],
   "source": [
    "df_encoded.filter(df_encoded['sentiment'] != 'positive').show()"
   ]
  },
  {
   "cell_type": "markdown",
   "id": "bbb1b9ef",
   "metadata": {},
   "source": [
    "# Text Preprocessing"
   ]
  },
  {
   "cell_type": "code",
   "execution_count": null,
   "id": "e7bbb0b1",
   "metadata": {},
   "outputs": [],
   "source": [
    "# Define UDF to tokenize using PyVi \n",
    "def pyvi_tokenize(text):\n",
    "    try:\n",
    "        if text and isinstance(text, str):\n",
    "            #text = re.sub(r'[^\\w\\s\\.]', ' ', text)\n",
    "            return ViTokenizer.tokenize(text)\n",
    "        return \"\"\n",
    "    except Exception as e:\n",
    "        print(f\"Error tokenizing text: {e}\")\n",
    "        return \"\""
   ]
  },
  {
   "cell_type": "code",
   "execution_count": null,
   "id": "41ad6baa",
   "metadata": {},
   "outputs": [],
   "source": [
    "# Register UDF\n",
    "tokenize_udf = udf(pyvi_tokenize, StringType())"
   ]
  },
  {
   "cell_type": "code",
   "execution_count": null,
   "id": "61dec9ad",
   "metadata": {},
   "outputs": [],
   "source": [
    "# Tokenize the text\n",
    "df_with_tokens = df_encoded.withColumn(\"cleaned_reviews\", tokenize_udf(col(\"review\")))"
   ]
  },
  {
   "cell_type": "code",
   "execution_count": null,
   "id": "91669e89",
   "metadata": {},
   "outputs": [],
   "source": [
    "# Show the final result\n",
    "df_with_tokens.show(50, truncate=False)"
   ]
  },
  {
   "cell_type": "code",
   "execution_count": 17,
   "id": "5df57cc2",
   "metadata": {},
   "outputs": [],
   "source": [
    "# Stop session\n",
    "spark.stop()"
   ]
  }
 ],
 "metadata": {
  "kernelspec": {
   "display_name": "Python 3",
   "language": "python",
   "name": "python3"
  },
  "language_info": {
   "codemirror_mode": {
    "name": "ipython",
    "version": 3
   },
   "file_extension": ".py",
   "mimetype": "text/x-python",
   "name": "python",
   "nbconvert_exporter": "python",
   "pygments_lexer": "ipython3",
   "version": "3.11.9"
  }
 },
 "nbformat": 4,
 "nbformat_minor": 5
}
