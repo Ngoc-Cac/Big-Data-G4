{
 "cells": [
  {
   "cell_type": "markdown",
   "id": "53b3fe7b",
   "metadata": {},
   "source": [
    "# Who is this notebook for?\n",
    "This notebook is meant for those who want to test out the functionalities mentioned in the project without the hassle of installing and setting up Java, Apache Hadoop and Apache Spark.\\\n",
    "If you already have installed and set up, or will be installing and setting up, Hadoop and Spark on your machine, you don't need to set up the Docker application anymore. In such case, just disregard this notebook."
   ]
  },
  {
   "cell_type": "markdown",
   "id": "7a4af52e",
   "metadata": {},
   "source": [
    "# Running The Docker Application"
   ]
  },
  {
   "cell_type": "markdown",
   "id": "bdf33605",
   "metadata": {},
   "source": [
    "## Installing Docker"
   ]
  },
  {
   "cell_type": "markdown",
   "id": "a4111d84",
   "metadata": {},
   "source": [
    "With that in mind, the first thing you need to do is installing [Docker](https://www.docker.com/) if you haven't. For Windows, Mac and Linux, you can install Docker through [Docker Desktop](https://docs.docker.com/get-started/get-docker/). For Linus, you can also install the [Docker Engine](https://docs.docker.com/engine/install/) without having to install the Docker Desktop UI.\\\n",
    "***Note that you may need to restart your machine after installation***\n",
    "\n",
    "After installation and setting up Docker, you can test it out by deploying some prebuilt images. If you are completely new to Docker, you can visit the [Introduction course](https://docs.docker.com/get-started/introduction/) after installation to test Docker out. For the project, we will be working with these, included but not limited to, Docker concepts:\n",
    "- [Images](https://docs.docker.com/get-started/docker-concepts/the-basics/what-is-an-image/) and [Containers](https://docs.docker.com/get-started/docker-concepts/the-basics/what-is-a-container/).\n",
    "- [Publishing ports](https://docs.docker.com/get-started/docker-concepts/running-containers/publishing-ports/) of containers.\n",
    "- Sharing files between host and containers by [bind mounting](https://docs.docker.com/get-started/docker-concepts/running-containers/sharing-local-files/).\n",
    "- Running multi-container application with [Docker Compose](https://docs.docker.com/get-started/docker-concepts/the-basics/what-is-docker-compose/) file."
   ]
  },
  {
   "cell_type": "markdown",
   "id": "6ea7f10b",
   "metadata": {},
   "source": [
    "## Deploying the application on your host"
   ]
  },
  {
   "cell_type": "markdown",
   "id": "144f1b55",
   "metadata": {},
   "source": [
    "When everything is set, you can finally get started by deploying the applciation on your host machine.\\\n",
    "In your CLI of choice, navigate to the [`docker-hadoop/`](./docker-hadoop/) directory and run:\n",
    "```bash\n",
    "docker-compose up -d\n",
    "```\n",
    "You should see the following output:\n",
    "\n",
    "![compose_output](./resource/demo/compose_output.png)\n",
    "\n",
    "If this is your first time building the services, you will need to wait for Docker to pull the images to your machine, which may take up to 5 minutes depending on your connection speed.\n",
    "\n",
    "When everything finishes, you can check the status of running containers by executing `docker-compose ps` or `docker ps`. If you have installed Docker Desktop, you can also see the status reported in the Containers tab.\n",
    "\n",
    "![status_cli](./resource/demo/status_cli.png)\n",
    "![status_ui](./resource/demo/status_ui.png)\n",
    "\n",
    "---\n",
    "---\n",
    "\n",
    "*Side note*: When you are done with the current session and want to terminate the application, run the following command:\n",
    "```bash\n",
    "docker-compose stop\n",
    "```\n",
    "This will stop the running containers and you can start the container again with `docker-compose start`.\n",
    "\n",
    "However, if you want to completely remove the containers and networks created by the `docker-compose.yml` file, run:\n",
    "```bash\n",
    "docker-compose down\n",
    "```\n",
    "To also remove the associated volumes, specify the additional option `-v`.\n",
    "\n",
    "For more information about the `docker compose` command, see [here](https://docs.docker.com/reference/cli/docker/compose/)."
   ]
  },
  {
   "cell_type": "markdown",
   "id": "20066326",
   "metadata": {},
   "source": [
    "# Using the Docker Application\n",
    "After everything is successfully deployed, you can use the application as is, you may also modify the `docker-compose.yml` file to better suit your needs.\n",
    "\n",
    "The following section demonstrate some of the functionalities available."
   ]
  },
  {
   "cell_type": "markdown",
   "id": "e45223a5",
   "metadata": {},
   "source": [
    "# Accessing the HDFS"
   ]
  },
  {
   "cell_type": "markdown",
   "id": "1bf223f8",
   "metadata": {},
   "source": [
    "## Within the bash shell"
   ]
  },
  {
   "cell_type": "markdown",
   "id": "866774f9",
   "metadata": {},
   "source": [
    "One way to interact with the HDFS hosted by the application is through the bash shell of the namenode container. To enter the container's bash shell, run:\n",
    "```bash\n",
    "docker exec -it namenode bash\n",
    "```\n",
    "Note that the namenode container must be running in order to do this.\n",
    "\n",
    "![namenode_bash](./resource/demo/namenode_bash.png)\n",
    "\n",
    "Within this container, you can access the HDFS by using `hdfs dfs` command. Run `hdfs dfs -help` to see available commands and their options."
   ]
  },
  {
   "cell_type": "markdown",
   "id": "cb54e720",
   "metadata": {},
   "source": [
    "## Within the WebHDFS"
   ]
  },
  {
   "cell_type": "markdown",
   "id": "5cbd6749",
   "metadata": {},
   "source": [
    "By default, the Docker application is set up with WebHDFS and the 9870 UI port has been exposed to the same port in host for access outside of the container. To access the UI, just visit http://localhost:9870.\n",
    "\n",
    "Within the web UI, you can view the HDFS by going to `Browse the file system` option inside the `Utilities` tab. Here you can interactively create or delete directories and files.\n",
    "<div align='center'>\n",
    "    <img src=\"./resource/demo/file_browse.png\">\n",
    "    <img src=\"./resource/demo/webhdfs.png\" width=\"660\">\n",
    "</div>\n",
    "\n",
    "However, you will run into an error when uploading files from your local file system, this is because the WebHDFS is trying to do data transfer through http://datanode1:9000 which is non-exisitent outside of the Docker application environment. Thus, if you have some automation tasks that require saving directly to the HDFS, you must do this from within the application.\n",
    "\n",
    "Demonstration of how to do this is provided in the next section."
   ]
  },
  {
   "cell_type": "markdown",
   "id": "b176ad05",
   "metadata": {},
   "source": [
    "# Executing Python scripts within the application"
   ]
  },
  {
   "cell_type": "markdown",
   "id": "6f79528a",
   "metadata": {},
   "source": []
  },
  {
   "cell_type": "markdown",
   "id": "3080a738",
   "metadata": {},
   "source": [
    "#"
   ]
  },
  {
   "cell_type": "code",
   "execution_count": null,
   "id": "1eadda7f",
   "metadata": {},
   "outputs": [],
   "source": []
  }
 ],
 "metadata": {
  "language_info": {
   "name": "python"
  }
 },
 "nbformat": 4,
 "nbformat_minor": 5
}
