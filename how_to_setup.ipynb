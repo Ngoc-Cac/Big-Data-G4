{
 "cells": [
  {
   "cell_type": "markdown",
   "id": "53b3fe7b",
   "metadata": {},
   "source": [
    "# Who is this notebook for?\n",
    "This notebook is meant for those who want to test out the functionalities mentioned in the project without the hassle of installing and setting up Apache Hadoop and Apache Spark.\\\n",
    "If you already have installed and set up, or will be installing and setting up, Hadoop and Spark on your machine, you don't need to set up the Docker application anymore. In such case, just disregard this notebook."
   ]
  },
  {
   "cell_type": "markdown",
   "id": "7a4af52e",
   "metadata": {},
   "source": [
    "# Running The Docker Application"
   ]
  },
  {
   "cell_type": "markdown",
   "id": "bdf33605",
   "metadata": {},
   "source": [
    "## Installing Docker"
   ]
  },
  {
   "cell_type": "markdown",
   "id": "a4111d84",
   "metadata": {},
   "source": [
    "With that in mind, the first thing you need to do is installing [Docker](https://www.docker.com/) if you haven't. For Windows, Mac and Linus, you can install Docker through [Docker Desktop](https://docs.docker.com/get-started/get-docker/). For Linus, you can also install the [Docker Engine](https://docs.docker.com/engine/install/) without having to install the Docker Desktop UI.\\\n",
    "***Note that you may need to restart your machine after installation***\n",
    "\n",
    "After installation and setting up Docker, you can test it out by deploying some prebuilt images. If you are completely new to Docker, you can visit the [Introduction course](https://docs.docker.com/get-started/introduction/) after installation to test Docker out. For the project, we will be working with these, included but not limited to, Docker concepts:\n",
    "- [Images](https://docs.docker.com/get-started/docker-concepts/the-basics/what-is-an-image/) and [Containers](https://docs.docker.com/get-started/docker-concepts/the-basics/what-is-a-container/).\n",
    "- [Publishing ports](https://docs.docker.com/get-started/docker-concepts/running-containers/publishing-ports/) of containers.\n",
    "- Sharing files between host and containers by [bind mounting](https://docs.docker.com/get-started/docker-concepts/running-containers/sharing-local-files/).\n",
    "- Running multi-container application with [Docker Compose](https://docs.docker.com/get-started/docker-concepts/the-basics/what-is-docker-compose/) file."
   ]
  },
  {
   "cell_type": "markdown",
   "id": "6ea7f10b",
   "metadata": {},
   "source": [
    "## Deploying the application on your host"
   ]
  },
  {
   "cell_type": "markdown",
   "id": "144f1b55",
   "metadata": {},
   "source": [
    "When everything is set, you can finally get started by deploying the applciation on your host machine.\\\n",
    "In your CLI of choice, navigate to the [`Big-Data-G4/docker-hadoop/`](./docker-hadoop/) directory and run:\n",
    "```bash\n",
    "docker-compose up -d\n",
    "```\n",
    "You should see the following output:\n",
    "\n",
    "![compose_output](./resource/pngs/compose_output.png)\n",
    "\n",
    "If this is your first time building the services, you will need to wait for Docker to pull the images to your machine, which may take up to 5 minutes depending on your connection speed.\n",
    "\n",
    "When everything finishes, you can check the status of running containers by executing `docker-compose ps` or `docker ps`. If you have installed Docker Desktop, you can also see the status reported in the Containers tab.\n",
    "\n",
    "![status_cli](./resource/pngs/status_cli)\n",
    "![status_ui](./resource/pngs/status_ui)\n",
    "\n",
    "---\n",
    "---\n",
    "\n",
    "*Side note*: When you are done with the current session and want to terminate the application, run the following command:\n",
    "```bash\n",
    "docker-compose stop\n",
    "```\n",
    "This will stop the running containers and you can start the container again with `docker-compose start`.\n",
    "\n",
    "However, if you want to completely remove the containers and networks created by the `docker-compose.yml` file, run:\n",
    "```bash\n",
    "docker-compose down\n",
    "```\n",
    "To also remove the associated volumes, specify the additional option `-v`.\n",
    "\n",
    "For more information about the `docker compose` command, see [here](https://docs.docker.com/reference/cli/docker/compose/)."
   ]
  },
  {
   "cell_type": "markdown",
   "id": "20066326",
   "metadata": {},
   "source": []
  },
  {
   "cell_type": "code",
   "execution_count": null,
   "id": "1eadda7f",
   "metadata": {},
   "outputs": [],
   "source": []
  }
 ],
 "metadata": {
  "language_info": {
   "name": "python"
  }
 },
 "nbformat": 4,
 "nbformat_minor": 5
}
